{
 "cells": [
  {
   "cell_type": "code",
   "execution_count": 1,
   "metadata": {
    "collapsed": false
   },
   "outputs": [
    {
     "data": {
      "application/javascript": [
       "IPython.load_extensions('calico-document-tools');"
      ],
      "text/plain": [
       "<IPython.core.display.Javascript object>"
      ]
     },
     "metadata": {},
     "output_type": "display_data"
    }
   ],
   "source": [
    "%%javascript\n",
    "IPython.load_extensions('calico-document-tools');"
   ]
  },
  {
   "cell_type": "code",
   "execution_count": 1,
   "metadata": {
    "collapsed": true
   },
   "outputs": [],
   "source": [
    "import numpy as np\n",
    "import matplotlib.pyplot as plt\n",
    "%matplotlib inline\n",
    "from __future__ import division\n",
    "from __future__ import print_function\n",
    "import serial\n",
    "import time"
   ]
  },
  {
   "cell_type": "code",
   "execution_count": 2,
   "metadata": {
    "collapsed": false
   },
   "outputs": [
    {
     "name": "stdout",
     "output_type": "stream",
     "text": [
      "\u001b[34m\u001b[43m/dev/tty.usbmodem1452\u001b[m\u001b[m\r\n"
     ]
    }
   ],
   "source": [
    "!ls /dev/tty.usbmodem*"
   ]
  },
  {
   "cell_type": "code",
   "execution_count": 3,
   "metadata": {
    "collapsed": false
   },
   "outputs": [
    {
     "name": "stdout",
     "output_type": "stream",
     "text": [
      "\u001b[34m\u001b[43m/dev/cu.usbmodem1452\u001b[m\u001b[m\r\n"
     ]
    }
   ],
   "source": [
    "!ls /dev/cu.usbmodem*"
   ]
  },
  {
   "cell_type": "code",
   "execution_count": 5,
   "metadata": {
    "collapsed": false
   },
   "outputs": [
    {
     "name": "stdout",
     "output_type": "stream",
     "text": [
      "1001,3.145\n"
     ]
    }
   ],
   "source": [
    "avariable = 1001\n",
    "bvariable = 3.145\n",
    "print(\"{},{}\".format(avariable,bvariable))"
   ]
  },
  {
   "cell_type": "code",
   "execution_count": 8,
   "metadata": {
    "collapsed": false
   },
   "outputs": [
    {
     "name": "stdout",
     "output_type": "stream",
     "text": [
      "[['12900093 ', ' 3000'], ['13000093 ', ' 4000'], ['13100093 ', ' 5000'], ['13200093 ', ' 6000'], ['13300093 ', ' 7000'], ['13400093 ', ' 8000'], ['13500093 ', ' 9000'], ['13600093 ', ' 0'], ['13700093 ', ' 1000'], ['13800093 ', ' 2000'], ['13900093 ', ' 3000'], ['14000093 ', ' 4000'], ['14100093 ', ' 5000'], ['14200093 ', ' 6000'], ['14300093 ', ' 7000'], ['14400093 ', ' 8000'], ['14500093 ', ' 9000'], ['14600093 ', ' 0'], ['14700093 ', ' 1000'], ['14800093 ', ' 2000']]\n"
     ]
    }
   ],
   "source": [
    "pyboard = serial.Serial('/dev/tty.usbmodem1452', 115200)\n",
    "temp = []\n",
    "for i in range(20):\n",
    "    if i == 0:\n",
    "        pyboard.flushInput()\n",
    "    temp.append( pyboard.readline().strip().split(',') )\n",
    "pyboard.close()\n",
    "\n",
    "print(temp)"
   ]
  },
  {
   "cell_type": "code",
   "execution_count": 7,
   "metadata": {
    "collapsed": false
   },
   "outputs": [
    {
     "name": "stdout",
     "output_type": "stream",
     "text": [
      "[['93 ', ' 8'], ['33400093 ', ' 9'], ['33500093 ', ' 0'], ['33600093 ', ' 1'], ['33700093 ', ' 2'], ['33800093 ', ' 3'], ['33900093 ', ' 4'], ['34000093 ', ' 5'], ['34100093 ', ' 6'], ['34200093 ', ' 7'], ['34300093 ', ' 8'], ['34400093 ', ' 9'], ['34500093 ', ' 0'], ['34600093 ', ' 1'], ['34700093 ', ' 2'], ['34800093 ', ' 3'], ['34900093 ', ' 4'], ['35000093 ', ' 5'], ['35100093 ', ' 6'], ['35200093 ', ' 7'], ['35300093 ', ' 8'], ['35400093 ', ' 9'], ['35500093 ', ' 0'], ['35600093 ', ' 1'], ['35700093 ', ' 2']]\n"
     ]
    }
   ],
   "source": [
    "pyboard = serial.Serial('/dev/tty.usbmodem1452', 115200)\n",
    "temp = []\n",
    "for i in range(25):\n",
    "    if i == 0:\n",
    "        pyboard.flushInput()\n",
    "    temp.append( pyboard.readline().strip().split(',') )\n",
    "pyboard.close()\n",
    "\n",
    "print(temp)"
   ]
  },
  {
   "cell_type": "code",
   "execution_count": 6,
   "metadata": {
    "collapsed": true
   },
   "outputs": [],
   "source": [
    "pyboard = serial.Serial('/dev/tty.usbmodem1452', 115200)"
   ]
  },
  {
   "cell_type": "code",
   "execution_count": 7,
   "metadata": {
    "collapsed": false
   },
   "outputs": [
    {
     "data": {
      "text/plain": [
       "115200"
      ]
     },
     "execution_count": 7,
     "metadata": {},
     "output_type": "execute_result"
    }
   ],
   "source": [
    "pyboard.baudrate"
   ]
  },
  {
   "cell_type": "code",
   "execution_count": 8,
   "metadata": {
    "collapsed": false
   },
   "outputs": [
    {
     "data": {
      "text/plain": [
       "8"
      ]
     },
     "execution_count": 8,
     "metadata": {},
     "output_type": "execute_result"
    }
   ],
   "source": [
    "pyboard.bytesize"
   ]
  },
  {
   "cell_type": "code",
   "execution_count": 9,
   "metadata": {
    "collapsed": false
   },
   "outputs": [
    {
     "data": {
      "text/plain": [
       "<bound method Serial.getBaudrate of Serial<id=0x105baab50, open=True>(port='/dev/tty.usbmodem1452', baudrate=115200, bytesize=8, parity='N', stopbits=1, timeout=None, xonxoff=False, rtscts=False, dsrdtr=False)>"
      ]
     },
     "execution_count": 9,
     "metadata": {},
     "output_type": "execute_result"
    }
   ],
   "source": [
    "pyboard.getBaudrate"
   ]
  },
  {
   "cell_type": "code",
   "execution_count": 10,
   "metadata": {
    "collapsed": false
   },
   "outputs": [
    {
     "data": {
      "text/plain": [
       "115200"
      ]
     },
     "execution_count": 10,
     "metadata": {},
     "output_type": "execute_result"
    }
   ],
   "source": [
    "pyboard.getBaudrate()"
   ]
  },
  {
   "cell_type": "code",
   "execution_count": 11,
   "metadata": {
    "collapsed": false
   },
   "outputs": [
    {
     "data": {
      "text/plain": [
       "'/dev/tty.usbmodem1452'"
      ]
     },
     "execution_count": 11,
     "metadata": {},
     "output_type": "execute_result"
    }
   ],
   "source": [
    "pyboard.getPort()"
   ]
  },
  {
   "cell_type": "code",
   "execution_count": 12,
   "metadata": {
    "collapsed": false
   },
   "outputs": [
    {
     "data": {
      "text/plain": [
       "[('50', 50),\n",
       " ('75', 75),\n",
       " ('110', 110),\n",
       " ('134', 134),\n",
       " ('150', 150),\n",
       " ('200', 200),\n",
       " ('300', 300),\n",
       " ('600', 600),\n",
       " ('1200', 1200),\n",
       " ('1800', 1800),\n",
       " ('2400', 2400),\n",
       " ('4800', 4800),\n",
       " ('9600', 9600),\n",
       " ('19200', 19200),\n",
       " ('38400', 38400),\n",
       " ('57600', 57600),\n",
       " ('115200', 115200),\n",
       " ('230400', 230400),\n",
       " ('460800', 460800),\n",
       " ('500000', 500000),\n",
       " ('576000', 576000),\n",
       " ('921600', 921600),\n",
       " ('1000000', 1000000),\n",
       " ('1152000', 1152000),\n",
       " ('1500000', 1500000),\n",
       " ('2000000', 2000000),\n",
       " ('2500000', 2500000),\n",
       " ('3000000', 3000000),\n",
       " ('3500000', 3500000),\n",
       " ('4000000', 4000000)]"
      ]
     },
     "execution_count": 12,
     "metadata": {},
     "output_type": "execute_result"
    }
   ],
   "source": [
    "pyboard.getSupportedBaudrates()"
   ]
  },
  {
   "cell_type": "code",
   "execution_count": 13,
   "metadata": {
    "collapsed": false
   },
   "outputs": [
    {
     "data": {
      "text/plain": [
       "True"
      ]
     },
     "execution_count": 13,
     "metadata": {},
     "output_type": "execute_result"
    }
   ],
   "source": [
    "pyboard.isOpen()"
   ]
  },
  {
   "cell_type": "code",
   "execution_count": 14,
   "metadata": {
    "collapsed": false
   },
   "outputs": [
    {
     "data": {
      "text/plain": [
       "False"
      ]
     },
     "execution_count": 14,
     "metadata": {},
     "output_type": "execute_result"
    }
   ],
   "source": [
    "pyboard.isatty()"
   ]
  },
  {
   "cell_type": "code",
   "execution_count": null,
   "metadata": {
    "collapsed": false
   },
   "outputs": [],
   "source": [
    "temp = []\n",
    "for i in range(20):\n",
    "    if i == 0:\n",
    "        pyboard.flushInput()\n",
    "    temp.append( pyboard.readline().strip().split(',') )\n",
    "\n",
    "print(temp)"
   ]
  },
  {
   "cell_type": "code",
   "execution_count": null,
   "metadata": {
    "collapsed": true
   },
   "outputs": [],
   "source": []
  },
  {
   "cell_type": "code",
   "execution_count": 12,
   "metadata": {
    "collapsed": false
   },
   "outputs": [
    {
     "name": "stdout",
     "output_type": "stream",
     "text": [
      "False\n"
     ]
    }
   ],
   "source": [
    "class serial_speed_test(object):\n",
    "\n",
    "    def __init__(self, freq_Hz):\n",
    "        self.tick = 0\n",
    "        self.tick_ready = False\n",
    "        self.freq_Hz = freq_Hz\n",
    "        #tim1 = pyb.Timer(1)\n",
    "        #tim1.init(freq=freq_Hz)\n",
    "        #tim1.callback(self.serial_speed_test_cb)\n",
    "\n",
    "    def serial_speed_test_cb(self):\n",
    "        self.tick_ready = True\n",
    "        #print(micros_timer.counter(), ',', 40*self.tick)\n",
    "        self.tick = (self.tick + 1) % 100\n",
    "\n",
    "sst = serial_speed_test(2)\n",
    "print(sst.tick_ready)"
   ]
  },
  {
   "cell_type": "code",
   "execution_count": 14,
   "metadata": {
    "collapsed": false
   },
   "outputs": [
    {
     "name": "stdout",
     "output_type": "stream",
     "text": [
      "0,2\n",
      "\n"
     ]
    }
   ],
   "source": [
    "s = \"%d,%d\\n\" % (sst.tick, sst.freq_Hz)\n",
    "print(s)"
   ]
  },
  {
   "cell_type": "code",
   "execution_count": 16,
   "metadata": {
    "collapsed": false
   },
   "outputs": [
    {
     "data": {
      "text/plain": [
       "True"
      ]
     },
     "execution_count": 16,
     "metadata": {},
     "output_type": "execute_result"
    }
   ],
   "source": [
    "s_temp = 'start\\n'\n",
    "s_temp.startswith('start')"
   ]
  },
  {
   "cell_type": "code",
   "execution_count": null,
   "metadata": {
    "collapsed": true
   },
   "outputs": [],
   "source": []
  }
 ],
 "metadata": {
  "kernelspec": {
   "display_name": "Python 2",
   "language": "python",
   "name": "python2"
  },
  "language_info": {
   "codemirror_mode": {
    "name": "ipython",
    "version": 2
   },
   "file_extension": ".py",
   "mimetype": "text/x-python",
   "name": "python",
   "nbconvert_exporter": "python",
   "pygments_lexer": "ipython2",
   "version": "2.7.10"
  }
 },
 "nbformat": 4,
 "nbformat_minor": 0
}
